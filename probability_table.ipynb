{
 "cells": [
  {
   "cell_type": "markdown",
   "metadata": {},
   "source": [
    "### Probability Table - Implementation"
   ]
  },
  {
   "cell_type": "code",
   "execution_count": 196,
   "metadata": {},
   "outputs": [
    {
     "data": {
      "text/plain": [
       "(12, 4)"
      ]
     },
     "execution_count": 196,
     "metadata": {},
     "output_type": "execute_result"
    }
   ],
   "source": [
    "import pandas as pd\n",
    "\n",
    "csv_path = r'data/probability_table_data.csv'\n",
    "\n",
    "data = pd.read_csv(csv_path)\n",
    "data.shape"
   ]
  },
  {
   "cell_type": "code",
   "execution_count": 197,
   "metadata": {},
   "outputs": [],
   "source": [
    "total = len(data)\n",
    "\n",
    "data_fractions = {}  # dictionary to store the fractions of each attribute\n",
    "\n",
    "sim_count = data[data['Decisao'] == 'sim'].shape[0]\n",
    "nao_count = data[data['Decisao'] == 'nao'].shape[0]"
   ]
  },
  {
   "cell_type": "code",
   "execution_count": 198,
   "metadata": {},
   "outputs": [],
   "source": [
    "# Processing the data to get the fractions of each attribute\n",
    "for col in data.columns:\n",
    "    if col in ['Clima', 'Temperatura', 'Umidade']:\n",
    "        for _, row in data.iterrows():\n",
    "            if row['Decisao'] == 'sim':\n",
    "                key = f'{row[col]}_s'\n",
    "                data_fractions[key] = data_fractions.get(key, 0) + 1\n",
    "            elif row['Decisao'] == 'nao':\n",
    "                key = f'{row[col]}_n'\n",
    "                data_fractions[key] = data_fractions.get(key, 0) + 1"
   ]
  },
  {
   "cell_type": "code",
   "execution_count": 199,
   "metadata": {},
   "outputs": [],
   "source": [
    "# The heart of the algorithm, calculate the probability of a new case\n",
    "def prob(new_case, data_fractions):\n",
    "    aux = [value for _, value in new_case.items()]\n",
    "    p_s = sim_count / total\n",
    "    p_n = nao_count / total\n",
    "    \n",
    "    for _, key in enumerate(aux):\n",
    "        key_s = f'{key}_s'\n",
    "        key_n = f'{key}_n'\n",
    "        \n",
    "        if key_s in data_fractions and data_fractions[key_s] > 0:\n",
    "            p_s *= data_fractions[key_s] / sim_count\n",
    "        if key_n in data_fractions and data_fractions[key_n] > 0:\n",
    "            p_n *= data_fractions[key_n] / nao_count\n",
    "    \n",
    "    p_sum = p_s + p_n\n",
    "    if p_sum == 0:\n",
    "        return 0, 0\n",
    "    \n",
    "    p_s = (p_s / p_sum) * 100\n",
    "    p_n = (p_n / p_sum) * 100\n",
    "    return p_s, p_n"
   ]
  },
  {
   "cell_type": "code",
   "execution_count": 200,
   "metadata": {},
   "outputs": [],
   "source": [
    "# new_case = {'Clima': 'chuva', 'Temperatura': 'ameno', 'Umidade': 'alta'}\n",
    "new_case = {'Clima': 'sol', 'Temperatura': 'quente', 'Umidade': 'alta'}"
   ]
  },
  {
   "cell_type": "code",
   "execution_count": 201,
   "metadata": {},
   "outputs": [
    {
     "name": "stdout",
     "output_type": "stream",
     "text": [
      "Prob Sim: 88.89%\n",
      "Prob Nao: 11.11%\n"
     ]
    }
   ],
   "source": [
    "p_s, p_n = prob(new_case, data_fractions)\n",
    "print(f'Prob Sim: {p_s:.2f}%\\nProb Nao: {p_n:.2f}%')"
   ]
  }
 ],
 "metadata": {
  "kernelspec": {
   "display_name": ".venv",
   "language": "python",
   "name": "python3"
  },
  "language_info": {
   "codemirror_mode": {
    "name": "ipython",
    "version": 3
   },
   "file_extension": ".py",
   "mimetype": "text/x-python",
   "name": "python",
   "nbconvert_exporter": "python",
   "pygments_lexer": "ipython3",
   "version": "3.12.3"
  }
 },
 "nbformat": 4,
 "nbformat_minor": 2
}
